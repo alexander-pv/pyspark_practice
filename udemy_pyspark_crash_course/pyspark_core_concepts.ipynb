{
  "nbformat": 4,
  "nbformat_minor": 0,
  "metadata": {
    "colab": {
      "name": "pyspark_core_concepts.ipynb",
      "provenance": [],
      "collapsed_sections": []
    },
    "kernelspec": {
      "name": "python3",
      "display_name": "Python 3"
    },
    "language_info": {
      "name": "python"
    }
  },
  "cells": [
    {
      "cell_type": "markdown",
      "source": [
        "### Core concepts"
      ],
      "metadata": {
        "id": "k2qD91-hgPrH"
      }
    },
    {
      "cell_type": "code",
      "execution_count": 1,
      "metadata": {
        "colab": {
          "base_uri": "https://localhost:8080/",
          "height": 671
        },
        "id": "usbJDPiXgLx4",
        "outputId": "ae12bf2e-bffe-44bc-9b72-67a167e43653"
      },
      "outputs": [
        {
          "output_type": "stream",
          "name": "stdout",
          "text": [
            "\r0% [Working]\r            \rGet:1 https://cloud.r-project.org/bin/linux/ubuntu bionic-cran40/ InRelease [3,626 B]\n",
            "\r0% [Connecting to archive.ubuntu.com (91.189.91.39)] [Waiting for headers] [1 I\r0% [Connecting to archive.ubuntu.com (91.189.91.39)] [Waiting for headers] [Con\r                                                                               \rIgn:2 https://developer.download.nvidia.com/compute/cuda/repos/ubuntu1804/x86_64  InRelease\n",
            "\r0% [Connecting to archive.ubuntu.com (91.189.91.39)] [Waiting for headers] [Con\r0% [1 InRelease gpgv 3,626 B] [Connecting to archive.ubuntu.com (91.189.91.39)]\r                                                                               \rGet:3 http://security.ubuntu.com/ubuntu bionic-security InRelease [88.7 kB]\n",
            "Ign:4 https://developer.download.nvidia.com/compute/machine-learning/repos/ubuntu1804/x86_64  InRelease\n",
            "Get:5 https://developer.download.nvidia.com/compute/cuda/repos/ubuntu1804/x86_64  Release [696 B]\n",
            "Hit:6 https://developer.download.nvidia.com/compute/machine-learning/repos/ubuntu1804/x86_64  Release\n",
            "Get:7 https://developer.download.nvidia.com/compute/cuda/repos/ubuntu1804/x86_64  Release.gpg [836 B]\n",
            "Hit:8 http://archive.ubuntu.com/ubuntu bionic InRelease\n",
            "Get:9 http://ppa.launchpad.net/c2d4u.team/c2d4u4.0+/ubuntu bionic InRelease [15.9 kB]\n",
            "Get:10 http://archive.ubuntu.com/ubuntu bionic-updates InRelease [88.7 kB]\n",
            "Get:11 http://archive.ubuntu.com/ubuntu bionic-backports InRelease [74.6 kB]\n",
            "Hit:13 http://ppa.launchpad.net/cran/libgit2/ubuntu bionic InRelease\n",
            "Get:14 https://developer.download.nvidia.com/compute/cuda/repos/ubuntu1804/x86_64  Packages [945 kB]\n",
            "Get:15 http://ppa.launchpad.net/deadsnakes/ppa/ubuntu bionic InRelease [15.9 kB]\n",
            "Hit:16 http://ppa.launchpad.net/graphics-drivers/ppa/ubuntu bionic InRelease\n",
            "Get:17 http://security.ubuntu.com/ubuntu bionic-security/universe amd64 Packages [1,484 kB]\n",
            "Get:18 http://security.ubuntu.com/ubuntu bionic-security/main amd64 Packages [2,660 kB]\n",
            "Get:19 http://ppa.launchpad.net/c2d4u.team/c2d4u4.0+/ubuntu bionic/main amd64 Packages [937 kB]\n",
            "Get:20 http://archive.ubuntu.com/ubuntu bionic-updates/main amd64 Packages [3,098 kB]\n",
            "Get:21 http://archive.ubuntu.com/ubuntu bionic-updates/universe amd64 Packages [2,262 kB]\n",
            "Get:22 http://archive.ubuntu.com/ubuntu bionic-updates/multiverse amd64 Packages [29.8 kB]\n",
            "Get:23 http://ppa.launchpad.net/deadsnakes/ppa/ubuntu bionic/main amd64 Packages [45.3 kB]\n",
            "Fetched 11.7 MB in 4s (3,117 kB/s)\n",
            "Reading package lists... Done\n",
            "original.csv  spark-2.3.1-bin-hadoop2.7\n",
            "sample_data   spark-2.3.1-bin-hadoop2.7.tgz\n"
          ]
        },
        {
          "output_type": "execute_result",
          "data": {
            "text/plain": [
              "<pyspark.sql.session.SparkSession at 0x7fb8178fb190>"
            ],
            "text/html": [
              "\n",
              "            <div>\n",
              "                <p><b>SparkSession - in-memory</b></p>\n",
              "                \n",
              "        <div>\n",
              "            <p><b>SparkContext</b></p>\n",
              "\n",
              "            <p><a href=\"http://aac68752014b:4040\">Spark UI</a></p>\n",
              "\n",
              "            <dl>\n",
              "              <dt>Version</dt>\n",
              "                <dd><code>v2.3.1</code></dd>\n",
              "              <dt>Master</dt>\n",
              "                <dd><code>local[*]</code></dd>\n",
              "              <dt>AppName</dt>\n",
              "                <dd><code>pyspark-shell</code></dd>\n",
              "            </dl>\n",
              "        </div>\n",
              "        \n",
              "            </div>\n",
              "        "
            ]
          },
          "metadata": {},
          "execution_count": 1
        }
      ],
      "source": [
        "!apt-get update\n",
        "!apt-get install openjdk-8-jdk-headless -qq > /dev/null\n",
        "!wget -q http://archive.apache.org/dist/spark/spark-2.3.1/spark-2.3.1-bin-hadoop2.7.tgz\n",
        "!tar xf spark-2.3.1-bin-hadoop2.7.tgz\n",
        "!pip install -q findspark\n",
        "\n",
        "import os\n",
        "os.environ[\"JAVA_HOME\"] = \"/usr/lib/jvm/java-8-openjdk-amd64\"\n",
        "os.environ[\"SPARK_HOME\"] = \"/content/spark-2.3.1-bin-hadoop2.7\"\n",
        "\n",
        "!ls\n",
        "\n",
        "import findspark\n",
        "findspark.init()\n",
        "\n",
        "import pyspark\n",
        "from pyspark.sql import SparkSession\n",
        "spark = SparkSession.builder.getOrCreate() \n",
        "spark"
      ]
    },
    {
      "cell_type": "code",
      "source": [
        "import numpy as np\n",
        "from pyspark.sql import functions as f\n",
        "from pyspark.sql import types"
      ],
      "metadata": {
        "id": "lQiUJAGagNhn"
      },
      "execution_count": 2,
      "outputs": []
    },
    {
      "cell_type": "code",
      "source": [
        "#  Other types of stored data like parquet, text and json can be loaded the same way as csv\n",
        "df = spark.read.csv(\"original.csv\", header=True)\n",
        "df.show(5)"
      ],
      "metadata": {
        "id": "gN-G2G93gO7p",
        "colab": {
          "base_uri": "https://localhost:8080/"
        },
        "outputId": "45e91f9f-9f56-4f9b-b7b1-2dd09012acf1"
      },
      "execution_count": 77,
      "outputs": [
        {
          "output_type": "stream",
          "name": "stdout",
          "text": [
            "+---+----------+----------+------+-------------+--------------------+---------+----------+-----------+\n",
            "| id|first_name| last_name|gender|         City|            JobTitle|   Salary|  Latitude|  Longitude|\n",
            "+---+----------+----------+------+-------------+--------------------+---------+----------+-----------+\n",
            "|  1|   Melinde| Shilburne|Female|    Nowa Ruda| Assistant Professor|$57438.18|50.5774075| 16.4967184|\n",
            "|  2|  Kimberly|Von Welden|Female|       Bulgan|       Programmer II|$62846.60|48.8231572|103.5218199|\n",
            "|  3|    Alvera|  Di Boldi|Female|         null|                null|$57576.52|39.9947462|116.3397725|\n",
            "|  4|   Shannon| O'Griffin|  Male|Divnomorskoye|Budget/Accounting...|$61489.23|44.5047212| 38.1300171|\n",
            "|  5|  Sherwood|   Macieja|  Male|    Mytishchi|            VP Sales|$63863.09|      null| 37.6489954|\n",
            "+---+----------+----------+------+-------------+--------------------+---------+----------+-----------+\n",
            "only showing top 5 rows\n",
            "\n"
          ]
        }
      ]
    },
    {
      "cell_type": "markdown",
      "source": [
        "Every column has string data type by default:"
      ],
      "metadata": {
        "id": "vip5wDAlhcvL"
      }
    },
    {
      "cell_type": "code",
      "source": [
        "df.dtypes"
      ],
      "metadata": {
        "id": "piQC3XJ3gUI-",
        "colab": {
          "base_uri": "https://localhost:8080/"
        },
        "outputId": "59e3758b-7f89-4bf6-b6ec-d41cadcf9896"
      },
      "execution_count": 78,
      "outputs": [
        {
          "output_type": "execute_result",
          "data": {
            "text/plain": [
              "[('id', 'string'),\n",
              " ('first_name', 'string'),\n",
              " ('last_name', 'string'),\n",
              " ('gender', 'string'),\n",
              " ('City', 'string'),\n",
              " ('JobTitle', 'string'),\n",
              " ('Salary', 'string'),\n",
              " ('Latitude', 'string'),\n",
              " ('Longitude', 'string')]"
            ]
          },
          "metadata": {},
          "execution_count": 78
        }
      ]
    },
    {
      "cell_type": "markdown",
      "source": [
        "To include other data types we should introduce a scheme:"
      ],
      "metadata": {
        "id": "N2QIHuzog4Hl"
      }
    },
    {
      "cell_type": "code",
      "source": [
        "schema = types.StructType([\n",
        "                           types.StructField(\"id\", types.IntegerType()),\n",
        "                           types.StructField(\"first_name\", types.StringType()),\n",
        "                           types.StructField(\"last_name\", types.StringType()),\n",
        "                           types.StructField(\"gender\", types.StringType()),\n",
        "                           types.StructField(\"City\", types.StringType()),\n",
        "                           types.StructField(\"JobTitle\", types.StringType()),\n",
        "                           types.StructField(\"Salary\", types.StringType()),\n",
        "                           types.StructField(\"Latitude\", types.FloatType()),\n",
        "                           types.StructField(\"Longitude\", types.FloatType()),\n",
        "])\n",
        "\n",
        "df2 = spark.read.csv(\"original.csv\", header=True, schema=schema)\n",
        "df2.show(5)"
      ],
      "metadata": {
        "colab": {
          "base_uri": "https://localhost:8080/"
        },
        "id": "ediDQi9zegXK",
        "outputId": "64f260e6-f58f-47ea-f81c-8f55ed38c0c0"
      },
      "execution_count": 79,
      "outputs": [
        {
          "output_type": "stream",
          "name": "stdout",
          "text": [
            "+---+----------+----------+------+-------------+--------------------+---------+---------+----------+\n",
            "| id|first_name| last_name|gender|         City|            JobTitle|   Salary| Latitude| Longitude|\n",
            "+---+----------+----------+------+-------------+--------------------+---------+---------+----------+\n",
            "|  1|   Melinde| Shilburne|Female|    Nowa Ruda| Assistant Professor|$57438.18|50.577408| 16.496717|\n",
            "|  2|  Kimberly|Von Welden|Female|       Bulgan|       Programmer II|$62846.60| 48.82316| 103.52182|\n",
            "|  3|    Alvera|  Di Boldi|Female|         null|                null|$57576.52|39.994747|116.339775|\n",
            "|  4|   Shannon| O'Griffin|  Male|Divnomorskoye|Budget/Accounting...|$61489.23|44.504723| 38.130016|\n",
            "|  5|  Sherwood|   Macieja|  Male|    Mytishchi|            VP Sales|$63863.09|     null| 37.648994|\n",
            "+---+----------+----------+------+-------------+--------------------+---------+---------+----------+\n",
            "only showing top 5 rows\n",
            "\n"
          ]
        }
      ]
    },
    {
      "cell_type": "code",
      "source": [
        "df2.dtypes"
      ],
      "metadata": {
        "colab": {
          "base_uri": "https://localhost:8080/"
        },
        "id": "E5gZ3Y6Qej7v",
        "outputId": "e99d20f8-142d-496f-a56c-77bce313c340"
      },
      "execution_count": 80,
      "outputs": [
        {
          "output_type": "execute_result",
          "data": {
            "text/plain": [
              "[('id', 'int'),\n",
              " ('first_name', 'string'),\n",
              " ('last_name', 'string'),\n",
              " ('gender', 'string'),\n",
              " ('City', 'string'),\n",
              " ('JobTitle', 'string'),\n",
              " ('Salary', 'string'),\n",
              " ('Latitude', 'float'),\n",
              " ('Longitude', 'float')]"
            ]
          },
          "metadata": {},
          "execution_count": 80
        }
      ]
    },
    {
      "cell_type": "markdown",
      "source": [
        "G"
      ],
      "metadata": {
        "id": "0p6RE0U1Neob"
      }
    },
    {
      "cell_type": "code",
      "source": [
        "df2.head(5)"
      ],
      "metadata": {
        "colab": {
          "base_uri": "https://localhost:8080/"
        },
        "id": "OQDHMpDPej-k",
        "outputId": "8830c32d-ebbf-417a-af91-09d8599d38ba"
      },
      "execution_count": 81,
      "outputs": [
        {
          "output_type": "execute_result",
          "data": {
            "text/plain": [
              "[Row(id=1, first_name='Melinde', last_name='Shilburne', gender='Female', City='Nowa Ruda', JobTitle='Assistant Professor', Salary='$57438.18', Latitude=50.57740783691406, Longitude=16.49671745300293),\n",
              " Row(id=2, first_name='Kimberly', last_name='Von Welden', gender='Female', City='Bulgan', JobTitle='Programmer II', Salary='$62846.60', Latitude=48.823158264160156, Longitude=103.52182006835938),\n",
              " Row(id=3, first_name='Alvera', last_name='Di Boldi', gender='Female', City=None, JobTitle=None, Salary='$57576.52', Latitude=39.994747161865234, Longitude=116.33977508544922),\n",
              " Row(id=4, first_name='Shannon', last_name=\"O'Griffin\", gender='Male', City='Divnomorskoye', JobTitle='Budget/Accounting Analyst II', Salary='$61489.23', Latitude=44.504722595214844, Longitude=38.1300163269043),\n",
              " Row(id=5, first_name='Sherwood', last_name='Macieja', gender='Male', City='Mytishchi', JobTitle='VP Sales', Salary='$63863.09', Latitude=None, Longitude=37.64899444580078)]"
            ]
          },
          "metadata": {},
          "execution_count": 81
        }
      ]
    },
    {
      "cell_type": "markdown",
      "source": [
        "General info"
      ],
      "metadata": {
        "id": "CGVNuS9-Nh0j"
      }
    },
    {
      "cell_type": "code",
      "source": [
        "df2.describe().show()"
      ],
      "metadata": {
        "colab": {
          "base_uri": "https://localhost:8080/"
        },
        "id": "GewMIncAekCL",
        "outputId": "e4f8e197-c396-40fe-abc1-806768dcd2a5"
      },
      "execution_count": 82,
      "outputs": [
        {
          "output_type": "stream",
          "name": "stdout",
          "text": [
            "+-------+-----------------+----------+---------+------+-------------------+-------------------+---------+------------------+-----------------+\n",
            "|summary|               id|first_name|last_name|gender|               City|           JobTitle|   Salary|          Latitude|        Longitude|\n",
            "+-------+-----------------+----------+---------+------+-------------------+-------------------+---------+------------------+-----------------+\n",
            "|  count|             1000|      1000|     1000|  1000|                999|                998|     1000|               999|             1000|\n",
            "|   mean|            500.5|      null|     null|  null|               null|               null|     null| 25.43151724702484|43.33756460386515|\n",
            "| stddev|288.8194360957494|      null|     null|  null|               null|               null|     null|24.579082550156635| 69.4206453674681|\n",
            "|    min|                1|   Abagail|    Abbay|Female|             Abéché|Account Coordinator|$10101.92|         -54.28115|       -123.04196|\n",
            "|    max|             1000|    Zulema| de Marco|  Male|‘Aşīrah al Qiblīyah|   Web Developer IV|$99948.28|          69.63186|        175.28227|\n",
            "+-------+-----------------+----------+---------+------+-------------------+-------------------+---------+------------------+-----------------+\n",
            "\n"
          ]
        }
      ]
    },
    {
      "cell_type": "code",
      "source": [
        "df2.first()"
      ],
      "metadata": {
        "colab": {
          "base_uri": "https://localhost:8080/"
        },
        "id": "NT3N1s74egaq",
        "outputId": "8a0b78bc-97ce-4e29-a5be-c1de8baf5581"
      },
      "execution_count": 83,
      "outputs": [
        {
          "output_type": "execute_result",
          "data": {
            "text/plain": [
              "Row(id=1, first_name='Melinde', last_name='Shilburne', gender='Female', City='Nowa Ruda', JobTitle='Assistant Professor', Salary='$57438.18', Latitude=50.57740783691406, Longitude=16.49671745300293)"
            ]
          },
          "metadata": {},
          "execution_count": 83
        }
      ]
    },
    {
      "cell_type": "code",
      "source": [
        "df.columns"
      ],
      "metadata": {
        "colab": {
          "base_uri": "https://localhost:8080/"
        },
        "id": "Tadq3gSwegd6",
        "outputId": "9030ba64-52aa-48b9-c9b8-99231dd5610a"
      },
      "execution_count": 84,
      "outputs": [
        {
          "output_type": "execute_result",
          "data": {
            "text/plain": [
              "['id',\n",
              " 'first_name',\n",
              " 'last_name',\n",
              " 'gender',\n",
              " 'City',\n",
              " 'JobTitle',\n",
              " 'Salary',\n",
              " 'Latitude',\n",
              " 'Longitude']"
            ]
          },
          "metadata": {},
          "execution_count": 84
        }
      ]
    },
    {
      "cell_type": "markdown",
      "source": [
        "Handling nulls and duplicates"
      ],
      "metadata": {
        "id": "9Qv38Ek-Nap1"
      }
    },
    {
      "cell_type": "code",
      "source": [
        "df.count()"
      ],
      "metadata": {
        "id": "VPost7L9gUL4",
        "colab": {
          "base_uri": "https://localhost:8080/"
        },
        "outputId": "1afa8dee-06e0-4cad-803d-cbbb85d7de35"
      },
      "execution_count": 85,
      "outputs": [
        {
          "output_type": "execute_result",
          "data": {
            "text/plain": [
              "1000"
            ]
          },
          "metadata": {},
          "execution_count": 85
        }
      ]
    },
    {
      "cell_type": "code",
      "source": [
        "df.distinct().count()"
      ],
      "metadata": {
        "id": "OnpJBUNKgUPP",
        "colab": {
          "base_uri": "https://localhost:8080/"
        },
        "outputId": "31948161-2402-4e74-b251-3eb5695bfe51"
      },
      "execution_count": 86,
      "outputs": [
        {
          "output_type": "execute_result",
          "data": {
            "text/plain": [
              "1000"
            ]
          },
          "metadata": {},
          "execution_count": 86
        }
      ]
    },
    {
      "cell_type": "code",
      "source": [
        "# Dropp entire row if there are any nulls\n",
        "df_dropped = df2.na.drop()\n",
        "df_dropped.show(5)"
      ],
      "metadata": {
        "id": "cK3AOBPAgWWL",
        "colab": {
          "base_uri": "https://localhost:8080/"
        },
        "outputId": "ec592022-01d0-4c04-f8dc-b2684a78395f"
      },
      "execution_count": 87,
      "outputs": [
        {
          "output_type": "stream",
          "name": "stdout",
          "text": [
            "+---+----------+----------+------+---------------+--------------------+---------+---------+----------+\n",
            "| id|first_name| last_name|gender|           City|            JobTitle|   Salary| Latitude| Longitude|\n",
            "+---+----------+----------+------+---------------+--------------------+---------+---------+----------+\n",
            "|  1|   Melinde| Shilburne|Female|      Nowa Ruda| Assistant Professor|$57438.18|50.577408| 16.496717|\n",
            "|  2|  Kimberly|Von Welden|Female|         Bulgan|       Programmer II|$62846.60| 48.82316| 103.52182|\n",
            "|  4|   Shannon| O'Griffin|  Male|  Divnomorskoye|Budget/Accounting...|$61489.23|44.504723| 38.130016|\n",
            "|  6|     Maris|      Folk|Female|Kinsealy-Drinan|      Civil Engineer|$30101.16|53.426613|-6.1644998|\n",
            "|  8|   Goddart|     Flear|  Male|      Trélissac|Desktop Support T...|$46116.36|45.190517| 0.7423124|\n",
            "+---+----------+----------+------+---------------+--------------------+---------+---------+----------+\n",
            "only showing top 5 rows\n",
            "\n"
          ]
        }
      ]
    },
    {
      "cell_type": "code",
      "source": [
        "df_null_jobs = df2.filter(df2.JobTitle.isNotNull())\n",
        "df_null_jobs.show(5)"
      ],
      "metadata": {
        "colab": {
          "base_uri": "https://localhost:8080/"
        },
        "id": "XcGj4dj7NaLZ",
        "outputId": "5e5af8df-043b-4fdd-bbdb-7f83c3947c4b"
      },
      "execution_count": 88,
      "outputs": [
        {
          "output_type": "stream",
          "name": "stdout",
          "text": [
            "+---+----------+----------+------+---------------+--------------------+---------+---------+----------+\n",
            "| id|first_name| last_name|gender|           City|            JobTitle|   Salary| Latitude| Longitude|\n",
            "+---+----------+----------+------+---------------+--------------------+---------+---------+----------+\n",
            "|  1|   Melinde| Shilburne|Female|      Nowa Ruda| Assistant Professor|$57438.18|50.577408| 16.496717|\n",
            "|  2|  Kimberly|Von Welden|Female|         Bulgan|       Programmer II|$62846.60| 48.82316| 103.52182|\n",
            "|  4|   Shannon| O'Griffin|  Male|  Divnomorskoye|Budget/Accounting...|$61489.23|44.504723| 38.130016|\n",
            "|  5|  Sherwood|   Macieja|  Male|      Mytishchi|            VP Sales|$63863.09|     null| 37.648994|\n",
            "|  6|     Maris|      Folk|Female|Kinsealy-Drinan|      Civil Engineer|$30101.16|53.426613|-6.1644998|\n",
            "+---+----------+----------+------+---------------+--------------------+---------+---------+----------+\n",
            "only showing top 5 rows\n",
            "\n"
          ]
        }
      ]
    },
    {
      "cell_type": "code",
      "source": [
        "df_handled = df2.withColumn(\"Clean_City\", \n",
        "                            f.when(df2.City.isNull(), \"Unknown\").otherwise(df2.City)\n",
        ")\n",
        "df_handled.show(5)"
      ],
      "metadata": {
        "id": "C8YrPuzYgWY3",
        "colab": {
          "base_uri": "https://localhost:8080/"
        },
        "outputId": "ffb4d5d4-1f40-4fe3-ad9a-4672da6fef25"
      },
      "execution_count": 89,
      "outputs": [
        {
          "output_type": "stream",
          "name": "stdout",
          "text": [
            "+---+----------+----------+------+-------------+--------------------+---------+---------+----------+-------------+\n",
            "| id|first_name| last_name|gender|         City|            JobTitle|   Salary| Latitude| Longitude|   Clean_City|\n",
            "+---+----------+----------+------+-------------+--------------------+---------+---------+----------+-------------+\n",
            "|  1|   Melinde| Shilburne|Female|    Nowa Ruda| Assistant Professor|$57438.18|50.577408| 16.496717|    Nowa Ruda|\n",
            "|  2|  Kimberly|Von Welden|Female|       Bulgan|       Programmer II|$62846.60| 48.82316| 103.52182|       Bulgan|\n",
            "|  3|    Alvera|  Di Boldi|Female|         null|                null|$57576.52|39.994747|116.339775|      Unknown|\n",
            "|  4|   Shannon| O'Griffin|  Male|Divnomorskoye|Budget/Accounting...|$61489.23|44.504723| 38.130016|Divnomorskoye|\n",
            "|  5|  Sherwood|   Macieja|  Male|    Mytishchi|            VP Sales|$63863.09|     null| 37.648994|    Mytishchi|\n",
            "+---+----------+----------+------+-------------+--------------------+---------+---------+----------+-------------+\n",
            "only showing top 5 rows\n",
            "\n"
          ]
        }
      ]
    },
    {
      "cell_type": "markdown",
      "source": [
        "Selecting & filtering data"
      ],
      "metadata": {
        "id": "sNjvBOxZ4TDi"
      }
    },
    {
      "cell_type": "code",
      "source": [
        "df_select = df2.select(\"first_name\", \"last_name\")\n",
        "df_select.show(5)"
      ],
      "metadata": {
        "id": "UrgtvLRDZrdv",
        "colab": {
          "base_uri": "https://localhost:8080/"
        },
        "outputId": "f02891ec-d6b0-4109-c8ad-75cecc45ba4e"
      },
      "execution_count": 90,
      "outputs": [
        {
          "output_type": "stream",
          "name": "stdout",
          "text": [
            "+----------+----------+\n",
            "|first_name| last_name|\n",
            "+----------+----------+\n",
            "|   Melinde| Shilburne|\n",
            "|  Kimberly|Von Welden|\n",
            "|    Alvera|  Di Boldi|\n",
            "|   Shannon| O'Griffin|\n",
            "|  Sherwood|   Macieja|\n",
            "+----------+----------+\n",
            "only showing top 5 rows\n",
            "\n"
          ]
        }
      ]
    },
    {
      "cell_type": "code",
      "source": [
        "df_renamed = df2.withColumnRenamed('first_name', 'fn')\n",
        "df_renamed.show(5)"
      ],
      "metadata": {
        "id": "Tltfu6_FZrg-",
        "colab": {
          "base_uri": "https://localhost:8080/"
        },
        "outputId": "50adc233-eb9d-401d-a1b4-27a68f54e794"
      },
      "execution_count": 91,
      "outputs": [
        {
          "output_type": "stream",
          "name": "stdout",
          "text": [
            "+---+--------+----------+------+-------------+--------------------+---------+---------+----------+\n",
            "| id|      fn| last_name|gender|         City|            JobTitle|   Salary| Latitude| Longitude|\n",
            "+---+--------+----------+------+-------------+--------------------+---------+---------+----------+\n",
            "|  1| Melinde| Shilburne|Female|    Nowa Ruda| Assistant Professor|$57438.18|50.577408| 16.496717|\n",
            "|  2|Kimberly|Von Welden|Female|       Bulgan|       Programmer II|$62846.60| 48.82316| 103.52182|\n",
            "|  3|  Alvera|  Di Boldi|Female|         null|                null|$57576.52|39.994747|116.339775|\n",
            "|  4| Shannon| O'Griffin|  Male|Divnomorskoye|Budget/Accounting...|$61489.23|44.504723| 38.130016|\n",
            "|  5|Sherwood|   Macieja|  Male|    Mytishchi|            VP Sales|$63863.09|     null| 37.648994|\n",
            "+---+--------+----------+------+-------------+--------------------+---------+---------+----------+\n",
            "only showing top 5 rows\n",
            "\n"
          ]
        }
      ]
    },
    {
      "cell_type": "code",
      "source": [
        "df_filter = df2.filter((df2.first_name == \"Sherwood\"))\n",
        "df_filter.show()"
      ],
      "metadata": {
        "id": "HsoVwaKNZrkJ",
        "colab": {
          "base_uri": "https://localhost:8080/"
        },
        "outputId": "d71ffa72-b8f2-496b-eff5-0684e8c541ba"
      },
      "execution_count": 92,
      "outputs": [
        {
          "output_type": "stream",
          "name": "stdout",
          "text": [
            "+---+----------+---------+------+---------+--------------------+---------+---------+---------+\n",
            "| id|first_name|last_name|gender|     City|            JobTitle|   Salary| Latitude|Longitude|\n",
            "+---+----------+---------+------+---------+--------------------+---------+---------+---------+\n",
            "|  5|  Sherwood|  Macieja|  Male|Mytishchi|            VP Sales|$63863.09|     null|37.648994|\n",
            "|729|  Sherwood|   Misson|  Male| Guanyang|Payment Adjustmen...|$56567.31|25.489384|111.16085|\n",
            "+---+----------+---------+------+---------+--------------------+---------+---------+---------+\n",
            "\n"
          ]
        }
      ]
    },
    {
      "cell_type": "code",
      "source": [
        "df_filter = df2.filter((df2.first_name.like(\"%am\")))\n",
        "df_filter.show()"
      ],
      "metadata": {
        "id": "bFQRFVfQZs2n",
        "colab": {
          "base_uri": "https://localhost:8080/"
        },
        "outputId": "1c30aadf-c056-4dc6-8571-24cd704c7247"
      },
      "execution_count": 93,
      "outputs": [
        {
          "output_type": "stream",
          "name": "stdout",
          "text": [
            "+---+----------+---------+------+----------------+--------------------+---------+----------+---------+\n",
            "| id|first_name|last_name|gender|            City|            JobTitle|   Salary|  Latitude|Longitude|\n",
            "+---+----------+---------+------+----------------+--------------------+---------+----------+---------+\n",
            "| 61|      Adam|  Seagood|  Male|     Krajan Siki|  Research Associate|$28660.11|   -8.1831| 111.5359|\n",
            "|108|    Miriam|    Jertz|Female|           Hekou|    Quality Engineer|$27902.32| 22.529404|103.93935|\n",
            "|145|       Tam|    Elgey|  Male|Margahayukencana|    Dental Hygienist|$74381.32| -6.971499|107.56938|\n",
            "|402|     Avram|   Extill|  Male|        Litvínov|Analog Circuit De...|$35105.35| 50.596558|13.592975|\n",
            "|412|      Gram|   Jaeggi|  Male|            Boto|Safety Technician II|$42845.12|-7.6155877|110.71671|\n",
            "+---+----------+---------+------+----------------+--------------------+---------+----------+---------+\n",
            "\n"
          ]
        }
      ]
    },
    {
      "cell_type": "code",
      "source": [
        "df_filter = df2.filter((df2.first_name.endswith(\"in\")))\n",
        "df_filter.show(5)"
      ],
      "metadata": {
        "id": "onSp8tfFZs51",
        "colab": {
          "base_uri": "https://localhost:8080/"
        },
        "outputId": "0795b766-6e9d-431d-acb5-ab0138a0515d"
      },
      "execution_count": 94,
      "outputs": [
        {
          "output_type": "stream",
          "name": "stdout",
          "text": [
            "+---+----------+---------+------+--------------+--------------------+---------+----------+---------+\n",
            "| id|first_name|last_name|gender|          City|            JobTitle|   Salary|  Latitude|Longitude|\n",
            "+---+----------+---------+------+--------------+--------------------+---------+----------+---------+\n",
            "| 18|     Thain|   Habbon|  Male|Foros do Trapo|     Design Engineer|$42135.67| 38.696247|-8.709834|\n",
            "| 81|     Alvin|    Doman|  Male|          Niny|Research Assistant I|$53258.86| 44.486843|43.940807|\n",
            "|223|    Garvin| Conisbee|  Male|         Dijon| Associate Professor|$81452.92|  45.29776|2.5135984|\n",
            "|327|   Marilin|    Bride|Female| Nambak Tengah|   Account Executive|$92048.68|-4.8919744|  105.278|\n",
            "|390|     Arlin|   Frayne|  Male|      Zhizhong|      Accountant III|$10913.50|   40.0873|116.31098|\n",
            "+---+----------+---------+------+--------------+--------------------+---------+----------+---------+\n",
            "only showing top 5 rows\n",
            "\n"
          ]
        }
      ]
    },
    {
      "cell_type": "code",
      "source": [
        "df_filter = df2.filter((df2.first_name.startswith(\"Al\")))\n",
        "df_filter.show(5)"
      ],
      "metadata": {
        "id": "-nSMIjF1Zs9g",
        "colab": {
          "base_uri": "https://localhost:8080/"
        },
        "outputId": "04c8e2e8-3d05-4bd8-9b17-428a04d5d4df"
      },
      "execution_count": 95,
      "outputs": [
        {
          "output_type": "stream",
          "name": "stdout",
          "text": [
            "+---+----------+---------+------+-------------+--------------------+---------+---------+----------+\n",
            "| id|first_name|last_name|gender|         City|            JobTitle|   Salary| Latitude| Longitude|\n",
            "+---+----------+---------+------+-------------+--------------------+---------+---------+----------+\n",
            "|  3|    Alvera| Di Boldi|Female|         null|                null|$57576.52|39.994747|116.339775|\n",
            "| 21|      Alon| Chasteau|  Male|        Xin’e|     Web Developer I|$62755.85| 49.16291| 127.98658|\n",
            "| 81|     Alvin|    Doman|  Male|         Niny|Research Assistant I|$53258.86|44.486843| 43.940807|\n",
            "|101|     Alene|      Odd|Female|María la Baja|Accounting Assist...|$37379.03|  9.91416| -75.41116|\n",
            "|115|    Allard|   Cordel|  Male|    Mieścisko|Compensation Analyst|$18907.81|45.863018|  5.947966|\n",
            "+---+----------+---------+------+-------------+--------------------+---------+---------+----------+\n",
            "only showing top 5 rows\n",
            "\n"
          ]
        }
      ]
    },
    {
      "cell_type": "code",
      "source": [
        "df_substr = df2.select(df2.first_name, df2.first_name.substr(1, 5).alias(\"subsr\"))\n",
        "df_substr.show(5)"
      ],
      "metadata": {
        "id": "8k8foI4LZtBH",
        "colab": {
          "base_uri": "https://localhost:8080/"
        },
        "outputId": "dcd74ab8-26ba-42e6-8cb8-118d0f38cf59"
      },
      "execution_count": 96,
      "outputs": [
        {
          "output_type": "stream",
          "name": "stdout",
          "text": [
            "+----------+-----+\n",
            "|first_name|subsr|\n",
            "+----------+-----+\n",
            "|   Melinde|Melin|\n",
            "|  Kimberly|Kimbe|\n",
            "|    Alvera|Alver|\n",
            "|   Shannon|Shann|\n",
            "|  Sherwood|Sherw|\n",
            "+----------+-----+\n",
            "only showing top 5 rows\n",
            "\n"
          ]
        }
      ]
    },
    {
      "cell_type": "markdown",
      "source": [
        "Applying multiple filters"
      ],
      "metadata": {
        "id": "PWEgDXQM9usH"
      }
    },
    {
      "cell_type": "code",
      "source": [
        "df_filtered = df2.filter(((df2.first_name.endswith(\"in\")) & (df2.City.like(\"%on\"))))\n",
        "df_filtered.show()"
      ],
      "metadata": {
        "id": "N7NXkbN-ZtEw",
        "colab": {
          "base_uri": "https://localhost:8080/"
        },
        "outputId": "65544ade-1b97-484f-93cf-17597f32f23d"
      },
      "execution_count": 97,
      "outputs": [
        {
          "output_type": "stream",
          "name": "stdout",
          "text": [
            "+---+----------+-------------+------+-----------+-------------------+---------+----------+---------+\n",
            "| id|first_name|    last_name|gender|       City|           JobTitle|   Salary|  Latitude|Longitude|\n",
            "+---+----------+-------------+------+-----------+-------------------+---------+----------+---------+\n",
            "|223|    Garvin|     Conisbee|  Male|      Dijon|Associate Professor|$81452.92|  45.29776|2.5135984|\n",
            "|901|     Aldin|Matuszkiewicz|  Male|East London|           Operator|$41468.83|-32.954933|27.931913|\n",
            "+---+----------+-------------+------+-----------+-------------------+---------+----------+---------+\n",
            "\n"
          ]
        }
      ]
    },
    {
      "cell_type": "code",
      "source": [
        "df_filtered = df2.filter(((df2.first_name.isin(\"Alvin\", \"Mike\")) | (df2.City.isin(\"London\"))))\n",
        "df_filtered.show()"
      ],
      "metadata": {
        "colab": {
          "base_uri": "https://localhost:8080/"
        },
        "id": "Mzb36WYL9L3g",
        "outputId": "cc1899cd-4e01-4632-fdaf-790541514536"
      },
      "execution_count": 98,
      "outputs": [
        {
          "output_type": "stream",
          "name": "stdout",
          "text": [
            "+---+----------+-----------+------+---------+--------------------+---------+---------+---------+\n",
            "| id|first_name|  last_name|gender|     City|            JobTitle|   Salary| Latitude|Longitude|\n",
            "+---+----------+-----------+------+---------+--------------------+---------+---------+---------+\n",
            "| 81|     Alvin|      Doman|  Male|     Niny|Research Assistant I|$53258.86|44.486843|43.940807|\n",
            "|897|      Mike|Shillington|  Male|Torslanda|    Quality Engineer|$66504.42| 57.75504|11.814933|\n",
            "+---+----------+-----------+------+---------+--------------------+---------+---------+---------+\n",
            "\n"
          ]
        }
      ]
    },
    {
      "cell_type": "markdown",
      "source": [
        "Running SQL on dataframes"
      ],
      "metadata": {
        "id": "zbFl1XrE--6a"
      }
    },
    {
      "cell_type": "code",
      "source": [
        "# Create a temp table for SQL queries\n",
        "df2.registerTempTable(\"original\")"
      ],
      "metadata": {
        "id": "6HhDy3A2-sN_"
      },
      "execution_count": 99,
      "outputs": []
    },
    {
      "cell_type": "code",
      "source": [
        "query1 = spark.sql(\"select distinct City from original\")\n",
        "query1.show()"
      ],
      "metadata": {
        "colab": {
          "base_uri": "https://localhost:8080/"
        },
        "id": "F2qrP0PF-SfZ",
        "outputId": "0f069a3f-b398-482d-88ce-b5a3fe4355ea"
      },
      "execution_count": 100,
      "outputs": [
        {
          "output_type": "stream",
          "name": "stdout",
          "text": [
            "+-----------------+\n",
            "|             City|\n",
            "+-----------------+\n",
            "|        Sułkowice|\n",
            "|          Klippan|\n",
            "|      Trollhättan|\n",
            "|        Shinaihai|\n",
            "|         Hongzhou|\n",
            "|         Cipinang|\n",
            "| Viejo Daan Banua|\n",
            "|         Tsiatsan|\n",
            "|       San Andres|\n",
            "|           Krasna|\n",
            "|      Springfield|\n",
            "|            Město|\n",
            "|Chaloem Phra Kiat|\n",
            "|          Tadotsu|\n",
            "|   Hénin-Beaumont|\n",
            "|          Kajaani|\n",
            "|           Duozhu|\n",
            "|           Abéché|\n",
            "|     Habingkloang|\n",
            "|         Malishka|\n",
            "+-----------------+\n",
            "only showing top 20 rows\n",
            "\n"
          ]
        }
      ]
    },
    {
      "cell_type": "code",
      "source": [
        "query2 = spark.sql(\"select concat(first_name, ' ', last_name) as full_name from original where gender = 'Female' \")\n",
        "query2.show(5)"
      ],
      "metadata": {
        "colab": {
          "base_uri": "https://localhost:8080/"
        },
        "id": "p0_RjwqFAbw0",
        "outputId": "6f864d1d-56fc-4ccb-a2d3-25f93afe4a7d"
      },
      "execution_count": 101,
      "outputs": [
        {
          "output_type": "stream",
          "name": "stdout",
          "text": [
            "+-------------------+\n",
            "|          full_name|\n",
            "+-------------------+\n",
            "|  Melinde Shilburne|\n",
            "|Kimberly Von Welden|\n",
            "|    Alvera Di Boldi|\n",
            "|         Maris Folk|\n",
            "|       Masha Divers|\n",
            "+-------------------+\n",
            "only showing top 5 rows\n",
            "\n"
          ]
        }
      ]
    },
    {
      "cell_type": "markdown",
      "source": [
        "Adding calculated columns"
      ],
      "metadata": {
        "id": "CjkbCxE3BHKX"
      }
    },
    {
      "cell_type": "code",
      "source": [
        "df2 = df2.withColumn(\"clean_salary\", df2.Salary.substr(2, 50).cast(\"float\"))\n",
        "df2.show(5)"
      ],
      "metadata": {
        "colab": {
          "base_uri": "https://localhost:8080/"
        },
        "id": "3QDSFXXjA6m8",
        "outputId": "df96a894-03ce-4210-acf8-9ab524fb8631"
      },
      "execution_count": 102,
      "outputs": [
        {
          "output_type": "stream",
          "name": "stdout",
          "text": [
            "+---+----------+----------+------+-------------+--------------------+---------+---------+----------+------------+\n",
            "| id|first_name| last_name|gender|         City|            JobTitle|   Salary| Latitude| Longitude|clean_salary|\n",
            "+---+----------+----------+------+-------------+--------------------+---------+---------+----------+------------+\n",
            "|  1|   Melinde| Shilburne|Female|    Nowa Ruda| Assistant Professor|$57438.18|50.577408| 16.496717|    57438.18|\n",
            "|  2|  Kimberly|Von Welden|Female|       Bulgan|       Programmer II|$62846.60| 48.82316| 103.52182|     62846.6|\n",
            "|  3|    Alvera|  Di Boldi|Female|         null|                null|$57576.52|39.994747|116.339775|    57576.52|\n",
            "|  4|   Shannon| O'Griffin|  Male|Divnomorskoye|Budget/Accounting...|$61489.23|44.504723| 38.130016|    61489.23|\n",
            "|  5|  Sherwood|   Macieja|  Male|    Mytishchi|            VP Sales|$63863.09|     null| 37.648994|    63863.09|\n",
            "+---+----------+----------+------+-------------+--------------------+---------+---------+----------+------------+\n",
            "only showing top 5 rows\n",
            "\n"
          ]
        }
      ]
    },
    {
      "cell_type": "code",
      "source": [
        "df2 = df2.withColumn(\"monthly_salary\", df2.clean_salary / 12)\n",
        "df2.show(5)"
      ],
      "metadata": {
        "colab": {
          "base_uri": "https://localhost:8080/"
        },
        "id": "YYKEE1QdA6qG",
        "outputId": "fa93e207-f1aa-4078-cd15-cb900ba0e157"
      },
      "execution_count": 103,
      "outputs": [
        {
          "output_type": "stream",
          "name": "stdout",
          "text": [
            "+---+----------+----------+------+-------------+--------------------+---------+---------+----------+------------+-----------------+\n",
            "| id|first_name| last_name|gender|         City|            JobTitle|   Salary| Latitude| Longitude|clean_salary|   monthly_salary|\n",
            "+---+----------+----------+------+-------------+--------------------+---------+---------+----------+------------+-----------------+\n",
            "|  1|   Melinde| Shilburne|Female|    Nowa Ruda| Assistant Professor|$57438.18|50.577408| 16.496717|    57438.18|4786.514973958333|\n",
            "|  2|  Kimberly|Von Welden|Female|       Bulgan|       Programmer II|$62846.60| 48.82316| 103.52182|     62846.6|   5237.216796875|\n",
            "|  3|    Alvera|  Di Boldi|Female|         null|                null|$57576.52|39.994747|116.339775|    57576.52|4798.043294270833|\n",
            "|  4|   Shannon| O'Griffin|  Male|Divnomorskoye|Budget/Accounting...|$61489.23|44.504723| 38.130016|    61489.23|  5124.1025390625|\n",
            "|  5|  Sherwood|   Macieja|  Male|    Mytishchi|            VP Sales|$63863.09|     null| 37.648994|    63863.09|5321.924153645833|\n",
            "+---+----------+----------+------+-------------+--------------------+---------+---------+----------+------------+-----------------+\n",
            "only showing top 5 rows\n",
            "\n"
          ]
        }
      ]
    },
    {
      "cell_type": "code",
      "source": [
        "df2 = df2.withColumn('is_female', f.when(df2.gender == 'Female', 1).otherwise(0).cast(\"int\"))\n",
        "df2.show(5)"
      ],
      "metadata": {
        "colab": {
          "base_uri": "https://localhost:8080/"
        },
        "id": "PgPcdlN_CEjP",
        "outputId": "a2773451-6a27-4779-e8a6-20688e553873"
      },
      "execution_count": 104,
      "outputs": [
        {
          "output_type": "stream",
          "name": "stdout",
          "text": [
            "+---+----------+----------+------+-------------+--------------------+---------+---------+----------+------------+-----------------+---------+\n",
            "| id|first_name| last_name|gender|         City|            JobTitle|   Salary| Latitude| Longitude|clean_salary|   monthly_salary|is_female|\n",
            "+---+----------+----------+------+-------------+--------------------+---------+---------+----------+------------+-----------------+---------+\n",
            "|  1|   Melinde| Shilburne|Female|    Nowa Ruda| Assistant Professor|$57438.18|50.577408| 16.496717|    57438.18|4786.514973958333|        1|\n",
            "|  2|  Kimberly|Von Welden|Female|       Bulgan|       Programmer II|$62846.60| 48.82316| 103.52182|     62846.6|   5237.216796875|        1|\n",
            "|  3|    Alvera|  Di Boldi|Female|         null|                null|$57576.52|39.994747|116.339775|    57576.52|4798.043294270833|        1|\n",
            "|  4|   Shannon| O'Griffin|  Male|Divnomorskoye|Budget/Accounting...|$61489.23|44.504723| 38.130016|    61489.23|  5124.1025390625|        0|\n",
            "|  5|  Sherwood|   Macieja|  Male|    Mytishchi|            VP Sales|$63863.09|     null| 37.648994|    63863.09|5321.924153645833|        0|\n",
            "+---+----------+----------+------+-------------+--------------------+---------+---------+----------+------------+-----------------+---------+\n",
            "only showing top 5 rows\n",
            "\n"
          ]
        }
      ]
    },
    {
      "cell_type": "markdown",
      "source": [
        "Data aggregation"
      ],
      "metadata": {
        "id": "BThQzZyLC4rS"
      }
    },
    {
      "cell_type": "code",
      "source": [
        "df_grouped = df2.groupBy(\"gender\").agg(f.avg(\"monthly_salary\").alias(\"avg_monthly_salary\"),\n",
        "                                       f.min(\"monthly_salary\").alias(\"min_monthly_salary\"),\n",
        "                                       f.max(\"monthly_salary\").alias(\"max_monthly_salary\"),\n",
        "                                       f.stddev(\"monthly_salary\").alias(\"std_monthly_salary\"))\n",
        "df_grouped.show()"
      ],
      "metadata": {
        "colab": {
          "base_uri": "https://localhost:8080/"
        },
        "id": "ijXPmYyYA6s2",
        "outputId": "b47fca94-746f-4380-8f75-c7a450d6fb70"
      },
      "execution_count": 119,
      "outputs": [
        {
          "output_type": "stream",
          "name": "stdout",
          "text": [
            "+------+------------------+------------------+------------------+------------------+\n",
            "|gender|avg_monthly_salary|min_monthly_salary|max_monthly_salary|std_monthly_salary|\n",
            "+------+------------------+------------------+------------------+------------------+\n",
            "|Female| 4634.911915683484|  884.703369140625|      8329.0234375| 2217.177580829649|\n",
            "|  Male| 4613.424487977516|   841.82666015625| 8328.576822916666|  2094.35177666598|\n",
            "+------+------------------+------------------+------------------+------------------+\n",
            "\n"
          ]
        }
      ]
    },
    {
      "cell_type": "code",
      "source": [
        "df_grouped = df2.groupBy(\"City\",\"gender\").agg(f.avg(\"monthly_salary\").alias(\"avg_monthly_salary\"),\n",
        "                                       f.min(\"monthly_salary\").alias(\"min_monthly_salary\"),\n",
        "                                       f.max(\"monthly_salary\").alias(\"max_monthly_salary\"),\n",
        "                                       f.count(\"monthly_salary\").alias(\"n_obs\"))\n",
        "df_grouped.show()"
      ],
      "metadata": {
        "colab": {
          "base_uri": "https://localhost:8080/"
        },
        "id": "PK4pYGAf9L62",
        "outputId": "3058716e-7cb5-46ba-e327-75e4422c2e0d"
      },
      "execution_count": 123,
      "outputs": [
        {
          "output_type": "stream",
          "name": "stdout",
          "text": [
            "+------------+------+------------------+------------------+------------------+-----+\n",
            "|        City|gender|avg_monthly_salary|min_monthly_salary|max_monthly_salary|n_obs|\n",
            "+------------+------+------------------+------------------+------------------+-----+\n",
            "|   Kaustinen|Female| 7093.397786458333| 7093.397786458333| 7093.397786458333|    1|\n",
            "|  Sungai Iyu|Female| 6678.024088541667| 6678.024088541667| 6678.024088541667|    1|\n",
            "|      Toledo|  Male|   1230.1591796875|   1230.1591796875|   1230.1591796875|    1|\n",
            "|    Slobodka|Female|1842.9641927083333|1842.9641927083333|1842.9641927083333|    1|\n",
            "|  Kharagauli|  Male| 6603.994791666667| 6603.994791666667| 6603.994791666667|    1|\n",
            "|    Rockford|  Male| 5877.270182291667| 5877.270182291667| 5877.270182291667|    1|\n",
            "|    Floresta|Female|      7047.2421875|      7047.2421875|      7047.2421875|    1|\n",
            "|      Gaoshi|  Male|   841.82666015625|   841.82666015625|   841.82666015625|    1|\n",
            "|  Tsaghkunk’|Female| 6928.616536458333| 6928.616536458333| 6928.616536458333|    1|\n",
            "|   Balahovit|  Male| 6205.354817708333| 6205.354817708333| 6205.354817708333|    1|\n",
            "|        Idkū|  Male|         2302.5625|         2302.5625|         2302.5625|    1|\n",
            "| Maple Ridge|  Male|    6305.029296875|    6305.029296875|    6305.029296875|    1|\n",
            "|    Mrganush|Female|2919.5950520833335|2919.5950520833335|2919.5950520833335|    1|\n",
            "| Tasikmalaya|Female| 5482.096354166667| 5482.096354166667| 5482.096354166667|    1|\n",
            "|      Tabant|Female|2425.5833333333335|2425.5833333333335|2425.5833333333335|    1|\n",
            "|Casal Galego|  Male|3509.1692708333335|3509.1692708333335|3509.1692708333335|    1|\n",
            "|     Dahuang|  Male|2267.2633463541665|2267.2633463541665|2267.2633463541665|    1|\n",
            "|        Same|Female| 6114.143880208333| 6114.143880208333| 6114.143880208333|    1|\n",
            "|   Mieścisko|Female| 2942.792073567708|1563.7107747395833| 4321.873372395833|    2|\n",
            "|      Burgau|  Male|3574.6207682291665|3574.6207682291665|3574.6207682291665|    1|\n",
            "+------------+------+------------------+------------------+------------------+-----+\n",
            "only showing top 20 rows\n",
            "\n"
          ]
        }
      ]
    },
    {
      "cell_type": "markdown",
      "source": [
        "Writing dataframes to files"
      ],
      "metadata": {
        "id": "0cUWTs5SHCkt"
      }
    },
    {
      "cell_type": "code",
      "source": [
        "df_grouped.write.csv(\"df_grouped.csv\")\n",
        "df_grouped.write.parquet(\"df_grouped.parquet\")\n",
        "df_grouped.write.json(\"df_grouped.json\")"
      ],
      "metadata": {
        "id": "eC6w4VQE9L9m"
      },
      "execution_count": 124,
      "outputs": []
    },
    {
      "cell_type": "code",
      "source": [
        ""
      ],
      "metadata": {
        "id": "8t0vv8cggPDS"
      },
      "execution_count": null,
      "outputs": []
    },
    {
      "cell_type": "code",
      "source": [
        ""
      ],
      "metadata": {
        "id": "kU1721F4gPGA"
      },
      "execution_count": null,
      "outputs": []
    }
  ]
}